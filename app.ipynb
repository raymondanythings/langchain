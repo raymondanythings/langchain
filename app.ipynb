{
 "cells": [
  {
   "cell_type": "code",
   "execution_count": 12,
   "metadata": {},
   "outputs": [],
   "source": [
    "\n",
    "from langchain.chat_models import ChatOpenAI\n",
    "from langchain.prompts import PromptTemplate,ChatPromptTemplate\n",
    "from langchain.callbacks import StreamingStdOutCallbackHandler\n",
    "\n",
    "chat = ChatOpenAI(temperature=0.1, model=\"gpt-4-turbo-preview\", streaming=True,callbacks=[StreamingStdOutCallbackHandler()])\n",
    "\n"
   ]
  },
  {
   "cell_type": "code",
   "execution_count": 4,
   "metadata": {},
   "outputs": [],
   "source": [
    "from langchain.schema import BaseOutputParser\n",
    "\n",
    "class CommaOutputParser(BaseOutputParser):\n",
    "  def parse(self,text):\n",
    "    items=  text.strip().split(',')\n",
    "    return list(map(str.strip,items))\n",
    "  \n",
    "  "
   ]
  },
  {
   "cell_type": "code",
   "execution_count": 5,
   "metadata": {},
   "outputs": [],
   "source": [
    "template = ChatPromptTemplate.from_messages([\n",
    "  (\"system\",\"You are a list generating machine. Everyhitng you are asked will be answered with a comma seperated list of max {max_items} in lowercase. Do NOT reply with anything else.\"),\n",
    "  (\"human\", \"{question}\")\n",
    "])\n",
    "\n"
   ]
  },
  {
   "cell_type": "code",
   "execution_count": 8,
   "metadata": {},
   "outputs": [],
   "source": [
    "# chain = template | chat | CommaOutputParser()\n",
    "\n",
    "# chain.invoke({\n",
    "#   \"max_items\" : 5,\n",
    "#   \"question\": \"what are the pokemons?\"\n",
    "# })\n",
    "chef_prompt = ChatPromptTemplate.from_messages([\n",
    "  (\"system\",\"You are a world-class international chef. You create easy to follow recipies for any type of cuisine with easy to find ingredients\"),\n",
    "  (\"human\",\"I want to cook {cuisine} food.\")\n",
    "])\n",
    "\n",
    "chef_chain = chef_prompt | chat "
   ]
  },
  {
   "cell_type": "code",
   "execution_count": 13,
   "metadata": {},
   "outputs": [
    {
     "name": "stdout",
     "output_type": "stream",
     "text": [
      "Transforming the classic Chicken Tikka Masala into a vegetarian delight is quite straightforward, thanks to the versatility of paneer (Indian cottage cheese) and tofu, both of which are excellent at absorbing the rich flavors of the marinade and sauce. Here's how you can make a Vegetarian Tikka Masala that retains the essence of the traditional recipe.\n",
      "\n",
      "### Vegetarian Tikka Masala\n",
      "\n",
      "#### Ingredients:\n",
      "\n",
      "**For the Vegetarian Marinade:**\n",
      "- 1 pound (about 450g) paneer or firm tofu, cut into bite-sized pieces\n",
      "- 1 cup plain yogurt (Greek yogurt works well)\n",
      "- 1 tablespoon lemon juice\n",
      "- 2 teaspoons ground cumin\n",
      "- 1 teaspoon ground cinnamon\n",
      "- 2 teaspoons cayenne pepper (adjust according to your spice preference)\n",
      "- 2 teaspoons freshly ground black pepper\n",
      "- 1 tablespoon minced fresh ginger\n",
      "- 1 teaspoon salt\n",
      "\n",
      "**For the Sauce:**\n",
      "- 1 tablespoon vegetable oil or ghee\n",
      "- 1 onion, finely chopped\n",
      "- 2 garlic cloves, minced\n",
      "- 1 tablespoon ground cumin\n",
      "- 1 teaspoon turmeric powder\n",
      "- 1 teaspoon ground coriander\n",
      "- 1 can (8 oz) tomato sauce or crushed tomatoes\n",
      "- 1 cup heavy cream (for a lighter version, you can use half-and-half or coconut milk)\n",
      "- Salt to taste\n",
      "- Fresh cilantro (coriander leaves) for garnish\n",
      "\n",
      "**For Serving:**\n",
      "- Cooked basmati rice\n",
      "- Naan bread\n",
      "\n",
      "#### Instructions:\n",
      "\n",
      "1. **Marinate the Paneer or Tofu:**\n",
      "   - In a large bowl, combine yogurt, lemon juice, cumin, cinnamon, cayenne, black pepper, ginger, and salt. Add the paneer or tofu pieces and mix well to coat. Cover and refrigerate for at least 1 hour, or overnight for best results.\n",
      "\n",
      "2. **Cook the Paneer or Tofu:**\n",
      "   - Preheat your grill, grill pan, or broiler. Cook the paneer or tofu until it's charred on the edges, about 3-5 minutes on each side for paneer and about 5-7 minutes for tofu. Set aside.\n",
      "\n",
      "3. **Prepare the Sauce:**\n",
      "   - Heat the oil or ghee in a large skillet over medium heat. Add the onions and garlic, and sauté until they are soft and translucent, about 5 minutes.\n",
      "   - Add the cumin, turmeric, and coriander, and cook for another 2 minutes until fragrant.\n",
      "   - Stir in the tomato sauce and simmer for 10 minutes, allowing the sauce to thicken slightly.\n",
      "   - Reduce the heat to low, add the cream, and stir well. Add the cooked paneer or tofu pieces to the sauce, and simmer for 10 minutes. Adjust the seasoning with salt.\n",
      "\n",
      "4. **Serve:**\n",
      "   - Garnish with fresh cilantro and serve hot with basmati rice and naan bread.\n",
      "\n",
      "Enjoy your homemade Vegetarian Tikka Masala! This dish offers a wonderful introduction to Indian cuisine, presenting a balance of rich, creamy, and spicy flavors, all while being completely vegetarian."
     ]
    },
    {
     "data": {
      "text/plain": [
       "AIMessageChunk(content=\"Transforming the classic Chicken Tikka Masala into a vegetarian delight is quite straightforward, thanks to the versatility of paneer (Indian cottage cheese) and tofu, both of which are excellent at absorbing the rich flavors of the marinade and sauce. Here's how you can make a Vegetarian Tikka Masala that retains the essence of the traditional recipe.\\n\\n### Vegetarian Tikka Masala\\n\\n#### Ingredients:\\n\\n**For the Vegetarian Marinade:**\\n- 1 pound (about 450g) paneer or firm tofu, cut into bite-sized pieces\\n- 1 cup plain yogurt (Greek yogurt works well)\\n- 1 tablespoon lemon juice\\n- 2 teaspoons ground cumin\\n- 1 teaspoon ground cinnamon\\n- 2 teaspoons cayenne pepper (adjust according to your spice preference)\\n- 2 teaspoons freshly ground black pepper\\n- 1 tablespoon minced fresh ginger\\n- 1 teaspoon salt\\n\\n**For the Sauce:**\\n- 1 tablespoon vegetable oil or ghee\\n- 1 onion, finely chopped\\n- 2 garlic cloves, minced\\n- 1 tablespoon ground cumin\\n- 1 teaspoon turmeric powder\\n- 1 teaspoon ground coriander\\n- 1 can (8 oz) tomato sauce or crushed tomatoes\\n- 1 cup heavy cream (for a lighter version, you can use half-and-half or coconut milk)\\n- Salt to taste\\n- Fresh cilantro (coriander leaves) for garnish\\n\\n**For Serving:**\\n- Cooked basmati rice\\n- Naan bread\\n\\n#### Instructions:\\n\\n1. **Marinate the Paneer or Tofu:**\\n   - In a large bowl, combine yogurt, lemon juice, cumin, cinnamon, cayenne, black pepper, ginger, and salt. Add the paneer or tofu pieces and mix well to coat. Cover and refrigerate for at least 1 hour, or overnight for best results.\\n\\n2. **Cook the Paneer or Tofu:**\\n   - Preheat your grill, grill pan, or broiler. Cook the paneer or tofu until it's charred on the edges, about 3-5 minutes on each side for paneer and about 5-7 minutes for tofu. Set aside.\\n\\n3. **Prepare the Sauce:**\\n   - Heat the oil or ghee in a large skillet over medium heat. Add the onions and garlic, and sauté until they are soft and translucent, about 5 minutes.\\n   - Add the cumin, turmeric, and coriander, and cook for another 2 minutes until fragrant.\\n   - Stir in the tomato sauce and simmer for 10 minutes, allowing the sauce to thicken slightly.\\n   - Reduce the heat to low, add the cream, and stir well. Add the cooked paneer or tofu pieces to the sauce, and simmer for 10 minutes. Adjust the seasoning with salt.\\n\\n4. **Serve:**\\n   - Garnish with fresh cilantro and serve hot with basmati rice and naan bread.\\n\\nEnjoy your homemade Vegetarian Tikka Masala! This dish offers a wonderful introduction to Indian cuisine, presenting a balance of rich, creamy, and spicy flavors, all while being completely vegetarian.\")"
      ]
     },
     "execution_count": 13,
     "metadata": {},
     "output_type": "execute_result"
    }
   ],
   "source": [
    "veg_chef_prompt = ChatPromptTemplate.from_messages(\n",
    "    [\n",
    "        (\n",
    "            \"system\",\n",
    "            \"You are a vegetarian chef specialized on making traditional recipies vegetarian. You find alternative ingredients and explain their preparation. You don't radically modify the recipe. If there is no alternative for a food just say you don't know how to replace it.\",\n",
    "        ),\n",
    "        (\"human\", \"{recipe}\"),\n",
    "    ]\n",
    ")\n",
    "\n",
    "\n",
    "veg_chain = veg_chef_prompt | chat\n",
    "\n",
    "\n",
    "final_chain = {\"recipe\" :chef_chain} | veg_chain\n",
    "\n",
    "final_chain.invoke({\"cuisine\":\"indian\"})\n"
   ]
  },
  {
   "cell_type": "code",
   "execution_count": null,
   "metadata": {},
   "outputs": [],
   "source": []
  }
 ],
 "metadata": {
  "kernelspec": {
   "display_name": "env",
   "language": "python",
   "name": "python3"
  },
  "language_info": {
   "codemirror_mode": {
    "name": "ipython",
    "version": 3
   },
   "file_extension": ".py",
   "mimetype": "text/x-python",
   "name": "python",
   "nbconvert_exporter": "python",
   "pygments_lexer": "ipython3",
   "version": "3.11.4"
  }
 },
 "nbformat": 4,
 "nbformat_minor": 2
}

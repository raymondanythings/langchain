{
 "cells": [
  {
   "cell_type": "code",
   "execution_count": 11,
   "metadata": {},
   "outputs": [
    {
     "ename": "ValidationError",
     "evalue": "2 validation errors for ChatOpenAI\ncallbacks -> 0\n  instance of BaseCallbackHandler expected (type=type_error.arbitrary_type; expected_arbitrary_type=BaseCallbackHandler)\ncallbacks\n  instance of BaseCallbackManager expected (type=type_error.arbitrary_type; expected_arbitrary_type=BaseCallbackManager)",
     "output_type": "error",
     "traceback": [
      "\u001b[0;31m---------------------------------------------------------------------------\u001b[0m",
      "\u001b[0;31mValidationError\u001b[0m                           Traceback (most recent call last)",
      "Cell \u001b[0;32mIn[11], line 5\u001b[0m\n\u001b[1;32m      2\u001b[0m \u001b[38;5;28;01mfrom\u001b[39;00m \u001b[38;5;21;01mlangchain\u001b[39;00m\u001b[38;5;21;01m.\u001b[39;00m\u001b[38;5;21;01mprompts\u001b[39;00m \u001b[38;5;28;01mimport\u001b[39;00m PromptTemplate,ChatPromptTemplate\n\u001b[1;32m      3\u001b[0m \u001b[38;5;28;01mfrom\u001b[39;00m \u001b[38;5;21;01mlangchain\u001b[39;00m\u001b[38;5;21;01m.\u001b[39;00m\u001b[38;5;21;01mcallbacks\u001b[39;00m \u001b[38;5;28;01mimport\u001b[39;00m StreamingStdOutCallbackHandler\n\u001b[0;32m----> 5\u001b[0m chat \u001b[38;5;241m=\u001b[39m \u001b[43mChatOpenAI\u001b[49m\u001b[43m(\u001b[49m\u001b[43mtemperature\u001b[49m\u001b[38;5;241;43m=\u001b[39;49m\u001b[38;5;241;43m0.1\u001b[39;49m\u001b[43m,\u001b[49m\u001b[43m \u001b[49m\u001b[43mmodel\u001b[49m\u001b[38;5;241;43m=\u001b[39;49m\u001b[38;5;124;43m\"\u001b[39;49m\u001b[38;5;124;43mgpt-4-turbo-preview\u001b[39;49m\u001b[38;5;124;43m\"\u001b[39;49m\u001b[43m,\u001b[49m\u001b[43m \u001b[49m\u001b[43mstreaming\u001b[49m\u001b[38;5;241;43m=\u001b[39;49m\u001b[38;5;28;43;01mTrue\u001b[39;49;00m\u001b[43m,\u001b[49m\u001b[43mcallbacks\u001b[49m\u001b[38;5;241;43m=\u001b[39;49m\u001b[43m[\u001b[49m\u001b[43mStreamingStdOutCallbackHandler\u001b[49m\u001b[43m]\u001b[49m\u001b[43m)\u001b[49m\n",
      "File \u001b[0;32m~/Documents/lecture/langchain/env/lib/python3.11/site-packages/langchain/load/serializable.py:97\u001b[0m, in \u001b[0;36mSerializable.__init__\u001b[0;34m(self, **kwargs)\u001b[0m\n\u001b[1;32m     96\u001b[0m \u001b[38;5;28;01mdef\u001b[39;00m \u001b[38;5;21m__init__\u001b[39m(\u001b[38;5;28mself\u001b[39m, \u001b[38;5;241m*\u001b[39m\u001b[38;5;241m*\u001b[39mkwargs: Any) \u001b[38;5;241m-\u001b[39m\u001b[38;5;241m>\u001b[39m \u001b[38;5;28;01mNone\u001b[39;00m:\n\u001b[0;32m---> 97\u001b[0m     \u001b[38;5;28;43msuper\u001b[39;49m\u001b[43m(\u001b[49m\u001b[43m)\u001b[49m\u001b[38;5;241;43m.\u001b[39;49m\u001b[38;5;21;43m__init__\u001b[39;49m\u001b[43m(\u001b[49m\u001b[38;5;241;43m*\u001b[39;49m\u001b[38;5;241;43m*\u001b[39;49m\u001b[43mkwargs\u001b[49m\u001b[43m)\u001b[49m\n\u001b[1;32m     98\u001b[0m     \u001b[38;5;28mself\u001b[39m\u001b[38;5;241m.\u001b[39m_lc_kwargs \u001b[38;5;241m=\u001b[39m kwargs\n",
      "File \u001b[0;32m~/Documents/lecture/langchain/env/lib/python3.11/site-packages/pydantic/main.py:341\u001b[0m, in \u001b[0;36mpydantic.main.BaseModel.__init__\u001b[0;34m()\u001b[0m\n",
      "\u001b[0;31mValidationError\u001b[0m: 2 validation errors for ChatOpenAI\ncallbacks -> 0\n  instance of BaseCallbackHandler expected (type=type_error.arbitrary_type; expected_arbitrary_type=BaseCallbackHandler)\ncallbacks\n  instance of BaseCallbackManager expected (type=type_error.arbitrary_type; expected_arbitrary_type=BaseCallbackManager)"
     ]
    }
   ],
   "source": [
    "\n",
    "from langchain.chat_models import ChatOpenAI\n",
    "from langchain.prompts import PromptTemplate,ChatPromptTemplate\n",
    "from langchain.callbacks import StreamingStdOutCallbackHandler\n",
    "\n",
    "chat = ChatOpenAI(temperature=0.1, model=\"gpt-4-turbo-preview\", streaming=True,callbacks=[StreamingStdOutCallbackHandler()])\n",
    "\n"
   ]
  },
  {
   "cell_type": "code",
   "execution_count": 4,
   "metadata": {},
   "outputs": [],
   "source": [
    "from langchain.schema import BaseOutputParser\n",
    "\n",
    "class CommaOutputParser(BaseOutputParser):\n",
    "  def parse(self,text):\n",
    "    items=  text.strip().split(',')\n",
    "    return list(map(str.strip,items))\n",
    "  \n",
    "  "
   ]
  },
  {
   "cell_type": "code",
   "execution_count": 5,
   "metadata": {},
   "outputs": [],
   "source": [
    "template = ChatPromptTemplate.from_messages([\n",
    "  (\"system\",\"You are a list generating machine. Everyhitng you are asked will be answered with a comma seperated list of max {max_items} in lowercase. Do NOT reply with anything else.\"),\n",
    "  (\"human\", \"{question}\")\n",
    "])\n",
    "\n"
   ]
  },
  {
   "cell_type": "code",
   "execution_count": 8,
   "metadata": {},
   "outputs": [],
   "source": [
    "# chain = template | chat | CommaOutputParser()\n",
    "\n",
    "# chain.invoke({\n",
    "#   \"max_items\" : 5,\n",
    "#   \"question\": \"what are the pokemons?\"\n",
    "# })\n",
    "chef_prompt = ChatPromptTemplate.from_messages([\n",
    "  (\"system\",\"You are a world-class international chef. You create easy to follow recipies for any type of cuisine with easy to find ingredients\"),\n",
    "  (\"human\",\"I want to cook {cuisine} food.\")\n",
    "])\n",
    "\n",
    "chef_chain = chef_prompt | chat "
   ]
  },
  {
   "cell_type": "code",
   "execution_count": 10,
   "metadata": {},
   "outputs": [
    {
     "data": {
      "text/plain": [
       "AIMessage(content=\"To adapt the Chicken Tikka Masala recipe to a vegetarian version, we can replace the chicken with a plant-based alternative that still absorbs the rich flavors of the marinade and sauce. Paneer (Indian cottage cheese) or extra-firm tofu are excellent choices for this. Both alternatives offer a texture that can closely mimic chicken when cooked properly and will soak up the marinade and sauce, providing a satisfying vegetarian dish. Here's how you can modify the recipe:\\n\\n### Vegetarian Tikka Masala\\n\\n#### Ingredients:\\n\\n**For the Paneer or Tofu Marinade:**\\n- 1 pound (about 450g) paneer or extra-firm tofu, cut into bite-sized pieces\\n- 1 cup plain yogurt (use dairy-free yogurt for a vegan version)\\n- 1 tablespoon lemon juice\\n- 2 teaspoons ground cumin\\n- 1 teaspoon ground cinnamon\\n- 2 teaspoons cayenne pepper (adjust according to your spice preference)\\n- 2 teaspoons freshly ground black pepper\\n- 1 tablespoon minced fresh ginger\\n- 1 teaspoon salt\\n\\n**For the Sauce:**\\n- 1 tablespoon butter (use plant-based butter for a vegan version)\\n- 1 clove garlic, minced\\n- 1 jalapeno pepper, finely chopped (optional)\\n- 2 teaspoons ground cumin\\n- 2 teaspoons paprika\\n- 1 teaspoon garam masala\\n- 1 (8 ounce) can tomato sauce\\n- 1 cup heavy cream (use coconut cream for a vegan version)\\n- Salt to taste\\n- Fresh cilantro (coriander) for garnish\\n\\n**For Serving:**\\n- Cooked rice or naan bread (ensure vegan naan if needed)\\n\\n#### Instructions:\\n\\n1. **Marinate the Paneer or Tofu:**\\n   - In a large bowl, combine yogurt, lemon juice, cumin, cinnamon, cayenne, black pepper, ginger, and salt. Add the paneer or tofu pieces and mix well to coat. Cover and refrigerate for at least 1 hour, or overnight for best results.\\n\\n2. **Cook the Paneer or Tofu:**\\n   - Preheat your grill (or a heavy grill pan on the stove) over medium-high heat. Thread the paneer or tofu onto skewers, then grill until nicely charred on all sides, about 5 minutes on each side. Remove from heat and set aside. If you don't have a grill, you can also broil the paneer or tofu in the oven.\\n\\n3. **Prepare the Sauce:**\\n   - Follow the original recipe instructions for preparing the sauce.\\n\\n4. **Serve:**\\n   - Add the grilled paneer or tofu pieces to the sauce, and simmer for about 10 minutes. Adjust the seasoning with salt, if necessary.\\n   - Garnish the Vegetarian Tikka Masala with chopped fresh cilantro. Serve hot with cooked rice or warm naan bread.\\n\\nEnjoy your homemade Vegetarian Tikka Masala! This dish maintains the rich and aromatic essence of the original recipe while offering a delightful vegetarian alternative.\")"
      ]
     },
     "execution_count": 10,
     "metadata": {},
     "output_type": "execute_result"
    }
   ],
   "source": [
    "veg_chef_prompt = ChatPromptTemplate.from_messages(\n",
    "    [\n",
    "        (\n",
    "            \"system\",\n",
    "            \"You are a vegetarian chef specialized on making traditional recipies vegetarian. You find alternative ingredients and explain their preparation. You don't radically modify the recipe. If there is no alternative for a food just say you don't know how to replace it.\",\n",
    "        ),\n",
    "        (\"human\", \"{recipe}\"),\n",
    "    ]\n",
    ")\n",
    "\n",
    "\n",
    "veg_chain = veg_chef_prompt | chat\n",
    "\n",
    "\n",
    "final_chain = {\"recipe\" :chef_chain} | veg_chain\n",
    "\n",
    "final_chain.invoke({\"cuisine\":\"indian\"})\n"
   ]
  },
  {
   "cell_type": "code",
   "execution_count": null,
   "metadata": {},
   "outputs": [],
   "source": []
  }
 ],
 "metadata": {
  "kernelspec": {
   "display_name": "env",
   "language": "python",
   "name": "python3"
  },
  "language_info": {
   "codemirror_mode": {
    "name": "ipython",
    "version": 3
   },
   "file_extension": ".py",
   "mimetype": "text/x-python",
   "name": "python",
   "nbconvert_exporter": "python",
   "pygments_lexer": "ipython3",
   "version": "3.11.4"
  }
 },
 "nbformat": 4,
 "nbformat_minor": 2
}
